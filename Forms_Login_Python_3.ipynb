{
  "nbformat": 4,
  "nbformat_minor": 0,
  "metadata": {
    "colab": {
      "name": "Forms Login Python 3.ipynb",
      "provenance": [],
      "collapsed_sections": [],
      "include_colab_link": true
    },
    "kernelspec": {
      "name": "python3",
      "display_name": "Python 3"
    },
    "accelerator": "GPU"
  },
  "cells": [
    {
      "cell_type": "markdown",
      "metadata": {
        "id": "view-in-github",
        "colab_type": "text"
      },
      "source": [
        "<a href=\"https://colab.research.google.com/github/marcondesmacaneiro/colab_tests/blob/master/Forms_Login_Python_3.ipynb\" target=\"_parent\"><img src=\"https://colab.research.google.com/assets/colab-badge.svg\" alt=\"Open In Colab\"/></a>"
      ]
    },
    {
      "cell_type": "markdown",
      "metadata": {
        "id": "HPWxVMuOw6c0",
        "colab_type": "text"
      },
      "source": [
        "# **Lidando com formulários e logins**\n",
        "\n",
        "---\n",
        "Dentro da tag < form > encontramos os formulários html e suas tags correspondentes.\n"
      ]
    },
    {
      "cell_type": "code",
      "metadata": {
        "id": "IKl31XTLw1bZ",
        "colab_type": "code",
        "colab": {}
      },
      "source": [
        "# 1 Mapeando os campos\n",
        "#!pip install beautifulsoup4\n",
        "from bs4 import BeautifulSoup\n",
        "import requests\n",
        "url = 'https://www.baguete.com.br/newsletter'\n",
        "s = requests.Session()\n",
        "\n",
        "def busca(url, data=None):\n",
        "    if data is None:\n",
        "        return s.get(url).content\n",
        "    else:\n",
        "        return s.post(url, data=data).content\n",
        "\n",
        "soup = BeautifulSoup(busca(url))\n",
        "form = soup.find('form')\n",
        "campos = form.findAll('input')\n",
        "for campo in campos:\n",
        "  print(campo)\n"
      ],
      "execution_count": 0,
      "outputs": []
    },
    {
      "cell_type": "code",
      "metadata": {
        "id": "4mVBN7v75p-Z",
        "colab_type": "code",
        "colab": {}
      },
      "source": [
        "# 1 Mapeando os campos\n",
        "#!pip install beautifulsoup4\n",
        "from bs4 import BeautifulSoup\n",
        "import requests\n",
        "url = 'https://www.facebook.com/business/m/whatsapp/business-api'\n",
        "s = requests.Session()\n",
        "\n",
        "def busca(url, data=None):\n",
        "    if data is None:\n",
        "        return s.get(url).content\n",
        "    else:\n",
        "        return s.post(url, data=data).content\n",
        "\n",
        "soup = BeautifulSoup(busca(url))\n",
        "form = soup.find('form')\n",
        "campos = form.findAll('input')\n",
        "for campo in campos:\n",
        "  print(campo)\n"
      ],
      "execution_count": 0,
      "outputs": []
    },
    {
      "cell_type": "code",
      "metadata": {
        "id": "PSZH2OQFOkdp",
        "colab_type": "code",
        "colab": {}
      },
      "source": [
        "# 2 Preenchendo os campos\n",
        "import requests\n",
        "url = 'https://www.baguete.com.br/newsletter'\n",
        "r = requests.get(url)\n",
        "forms = {\"submitted[nome]\": \"Zebu Da Silva\",\"submitted[email]\": \"zebu@gmail.com\",\"submitted[empresa]\": \"Zebu LTDA\"}\n",
        "requests.post(url, data=forms)\n"
      ],
      "execution_count": 0,
      "outputs": []
    },
    {
      "cell_type": "markdown",
      "metadata": {
        "id": "jZor6mLaje76",
        "colab_type": "text"
      },
      "source": [
        "## Captcha: a kryptonita do Web Scraper\n",
        "\n",
        "---\n",
        "\n",
        "A maioria dos captchas são ativados quando notam requisições repetidas de um único IP. Para tal, podemos contornar a situação alterando nosso IP a cada requisição. Acesse https://gist.github.com/Lazza/bbc15561b65c16db8ca8 quando necessário. Há a possibilidade de utilizar a biblioteca Fake User Agent, também disponível no pypi https://pypi.org/project/fake-useragent/. Caso prefira Machine Learning, https://medium.com/@ageitgey/how-to-break-a-captcha-system-in-15-minutes-with-machine-learning-dbebb035a710"
      ]
    },
    {
      "cell_type": "code",
      "metadata": {
        "id": "6YsIEa3ym_th",
        "colab_type": "code",
        "colab": {}
      },
      "source": [
        "import requests\n",
        "url = 'https://www.baguete.com.br/newsletter'\n",
        "hd = {'User-Agent': 'Mozilla/5.0 (Windows NT 10.0; Win64; x64)AppleWebKit/537.36 ' + ' (KHTML, like Gecko) Chrome/61.0.3163.100 Safari/537.36'}\n",
        "r = requests.get(url,headers=hd)\n",
        "forms = {\"submitted[nome]\": \"Zebu Da Silva\",\"submitted[email]\": \"zebu@gmail.com\",\"submitted[empresa]\": \"Zebu LTDA\"}\n",
        "requests.post(url, data=forms,headers=hd)"
      ],
      "execution_count": 0,
      "outputs": []
    },
    {
      "cell_type": "markdown",
      "metadata": {
        "id": "PLkzdFk9lavq",
        "colab_type": "text"
      },
      "source": [
        "## Dicas finais\n",
        "\n",
        "---\n",
        "\n",
        "1. Verifique dentro da tag < form > se há elementos do tipo hidden, afinal, eles são inseridos lá para barrar Web Scrapers que não conseguirão submeter formulários senão da forma internauta tradicional. Analise a tag a seguir e não esqueça de inserir em seu dicionário protection e preenchendo com \"2c17abf5d5b4e326bea802600ff88405\" para submete-lo :\n",
        "<br>**< input type=\"hidden\" name=\"protection\" value=\"2c17abf5d5b4e326bea802600ff88405\">**\n",
        "2. Verifique o método do formulário que você esteja preenchendo em < form method=\"\" >\n",
        "\n",
        "3. Cada site trabalha de uma forma diferente, é claro, incluindo formulários com muito JavaScript, então cada formulário de login é um novo desafio e felizmente não temos uma receita que funcione em todos, por isto: LEIA AS DOCUMENTAÇÕES."
      ]
    },
    {
      "cell_type": "code",
      "metadata": {
        "id": "emMx77yIhkzu",
        "colab_type": "code",
        "colab": {}
      },
      "source": [
        "while True:\n",
        "  print(\"PRATIQUE!\")"
      ],
      "execution_count": 0,
      "outputs": []
    },
    {
      "cell_type": "markdown",
      "metadata": {
        "id": "4PprfSHXg9Wn",
        "colab_type": "text"
      },
      "source": [
        "# **Exercicios**\n",
        "\n",
        "---\n",
        "\n",
        "Teste os conhecimentos adquiridos com logins e formulários acessando o maior número possível de sites com formulários e tentando, é claro, chegar a resposta 200 HTTP com método POST."
      ]
    }
  ]
}