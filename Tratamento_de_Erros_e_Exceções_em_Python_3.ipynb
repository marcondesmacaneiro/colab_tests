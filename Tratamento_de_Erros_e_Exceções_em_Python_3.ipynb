{
  "nbformat": 4,
  "nbformat_minor": 0,
  "metadata": {
    "colab": {
      "name": "Tratamento de Erros e Exceções em Python 3.ipynb",
      "provenance": [],
      "include_colab_link": true
    },
    "kernelspec": {
      "name": "python3",
      "display_name": "Python 3"
    }
  },
  "cells": [
    {
      "cell_type": "markdown",
      "metadata": {
        "id": "view-in-github",
        "colab_type": "text"
      },
      "source": [
        "<a href=\"https://colab.research.google.com/github/marcondesmacaneiro/colab_tests/blob/master/Tratamento_de_Erros_e_Exce%C3%A7%C3%B5es_em_Python_3.ipynb\" target=\"_parent\"><img src=\"https://colab.research.google.com/assets/colab-badge.svg\" alt=\"Open In Colab\"/></a>"
      ]
    },
    {
      "cell_type": "markdown",
      "metadata": {
        "id": "xcioKGW2kHpj",
        "colab_type": "text"
      },
      "source": [
        "# >>> Tratamento de Erros e Exceções\n",
        "---\n",
        "# Erros irão acontecar e é importante que você os preveja e trateos antes de sua aparição\n",
        "---\n",
        "## >>> Erros Comuns\n",
        "\n",
        "* IOError: Se o arquivo não puder ser aberto/salvo\n",
        "* ImportError: Se o python não encontra o módulo\n",
        "* ValueError: Operação recebe valor inadequado\n",
        "* Keyboardinterrupt: Quando usuário clica em DELETE ou CTRL+C\n",
        "* EOError: Quando o input não recebe nenhum dado\n",
        "* TypeError: Erro de tipo para operação\n"
      ]
    },
    {
      "cell_type": "code",
      "metadata": {
        "id": "p4CKcPWzmC7h",
        "colab_type": "code",
        "colab": {
          "base_uri": "https://localhost:8080/",
          "height": 198
        },
        "outputId": "087a362a-a9ea-4bfd-c368-b2f6af441167"
      },
      "source": [
        "x = input(\"Digite um número \")\n",
        "print(x/1)"
      ],
      "execution_count": 2,
      "outputs": [
        {
          "output_type": "stream",
          "text": [
            "Digite um número2\n"
          ],
          "name": "stdout"
        },
        {
          "output_type": "error",
          "ename": "TypeError",
          "evalue": "ignored",
          "traceback": [
            "\u001b[0;31m---------------------------------------------------------------------------\u001b[0m",
            "\u001b[0;31mTypeError\u001b[0m                                 Traceback (most recent call last)",
            "\u001b[0;32m<ipython-input-2-26928f21e68d>\u001b[0m in \u001b[0;36m<module>\u001b[0;34m()\u001b[0m\n\u001b[1;32m      1\u001b[0m \u001b[0mx\u001b[0m \u001b[0;34m=\u001b[0m \u001b[0minput\u001b[0m\u001b[0;34m(\u001b[0m\u001b[0;34m\"Digite um número\"\u001b[0m\u001b[0;34m)\u001b[0m\u001b[0;34m\u001b[0m\u001b[0;34m\u001b[0m\u001b[0m\n\u001b[0;32m----> 2\u001b[0;31m \u001b[0mprint\u001b[0m\u001b[0;34m(\u001b[0m\u001b[0mx\u001b[0m\u001b[0;34m/\u001b[0m\u001b[0;36m1\u001b[0m\u001b[0;34m)\u001b[0m\u001b[0;34m\u001b[0m\u001b[0;34m\u001b[0m\u001b[0m\n\u001b[0m",
            "\u001b[0;31mTypeError\u001b[0m: unsupported operand type(s) for /: 'str' and 'int'"
          ]
        }
      ]
    },
    {
      "cell_type": "markdown",
      "metadata": {
        "id": "RL90xo9tmSPA",
        "colab_type": "text"
      },
      "source": [
        "# >>> Try/Except"
      ]
    },
    {
      "cell_type": "code",
      "metadata": {
        "id": "4E535wpGmV8x",
        "colab_type": "code",
        "colab": {
          "base_uri": "https://localhost:8080/",
          "height": 51
        },
        "outputId": "6835404e-64e5-4721-97fe-ced94de2e53f"
      },
      "source": [
        "try:\n",
        "  x = input(\"Digite um número \")\n",
        "  print(x/1)\n",
        "except TypeError:\n",
        "  print(\"Erro de tipo!\")"
      ],
      "execution_count": 4,
      "outputs": [
        {
          "output_type": "stream",
          "text": [
            "Digite um número 1\n",
            "Erro de tipo!\n"
          ],
          "name": "stdout"
        }
      ]
    },
    {
      "cell_type": "code",
      "metadata": {
        "id": "SQGFZyrwmmNo",
        "colab_type": "code",
        "colab": {
          "base_uri": "https://localhost:8080/",
          "height": 119
        },
        "outputId": "bbd15c3a-3748-4d88-c5a6-a200aca2d206"
      },
      "source": [
        "while True:\n",
        "  try:\n",
        "    x = int(input(\"Digite um número: \"))\n",
        "    print(f\"Dividindo 100 por {x} teremos {int(100/x)}\")\n",
        "    break\n",
        "  except ValueError:\n",
        "    print(\"A valor digitado não é um inteiro. Tente novamente.\")"
      ],
      "execution_count": 6,
      "outputs": [
        {
          "output_type": "stream",
          "text": [
            "Digite um número: asdas\n",
            "A valor digitado não é um inteiro. Tente novamente.\n",
            "Digite um número: sdasd\n",
            "A valor digitado não é um inteiro. Tente novamente.\n",
            "Digite um número: 12\n",
            "Dividindo 100 por 12 teremos 8\n"
          ],
          "name": "stdout"
        }
      ]
    },
    {
      "cell_type": "markdown",
      "metadata": {
        "id": "q6WNx5G2nbz5",
        "colab_type": "text"
      },
      "source": [
        "# >>> Else"
      ]
    },
    {
      "cell_type": "code",
      "metadata": {
        "id": "Ww9SuFHindu_",
        "colab_type": "code",
        "colab": {
          "base_uri": "https://localhost:8080/",
          "height": 136
        },
        "outputId": "ac5c6578-3150-41a5-aca0-a488a6da7e28"
      },
      "source": [
        "while True:\n",
        "  try:\n",
        "    x = int(input(\"Digite um número: \"))\n",
        "    print(f\"Dividindo 100 por {x} teremos {int(100/x)}\")\n",
        "  except ValueError:\n",
        "    print(\"A valor digitado não é um inteiro. Tente novamente.\")\n",
        "  else:\n",
        "      print(\"Executado com sucesso!\")\n",
        "      break"
      ],
      "execution_count": 9,
      "outputs": [
        {
          "output_type": "stream",
          "text": [
            "Digite um número: asd\n",
            "A valor digitado não é um inteiro. Tente novamente.\n",
            "Digite um número: e\n",
            "A valor digitado não é um inteiro. Tente novamente.\n",
            "Digite um número: 4\n",
            "Dividindo 100 por 4 teremos 25\n",
            "Executado com sucesso!\n"
          ],
          "name": "stdout"
        }
      ]
    },
    {
      "cell_type": "markdown",
      "metadata": {
        "id": "ub1KzW6Sou4K",
        "colab_type": "text"
      },
      "source": [
        "# >>> Finally"
      ]
    },
    {
      "cell_type": "code",
      "metadata": {
        "id": "mjlNMjD-oxjV",
        "colab_type": "code",
        "colab": {
          "base_uri": "https://localhost:8080/",
          "height": 170
        },
        "outputId": "6cf26da3-24cb-452a-8e82-e0504e3cea3f"
      },
      "source": [
        "while True:\n",
        "  try:\n",
        "    x = int(input(\"Digite um número: \"))\n",
        "    print(f\"Dividindo 100 por {x} teremos {int(100/x)}\")\n",
        "    break\n",
        "  except ValueError:\n",
        "    print(\"A valor digitado não é um inteiro. Tente novamente.\")\n",
        "  finally:\n",
        "      print(\"O finally executa o bloco havendo ou não exceções\")\n",
        "      "
      ],
      "execution_count": 10,
      "outputs": [
        {
          "output_type": "stream",
          "text": [
            "Digite um número: as\n",
            "A valor digitado não é um inteiro. Tente novamente.\n",
            "O finally executa o bloco havendo ou não exceções\n",
            "Digite um número: r\n",
            "A valor digitado não é um inteiro. Tente novamente.\n",
            "O finally executa o bloco havendo ou não exceções\n",
            "Digite um número: 3\n",
            "Dividindo 100 por 3 teremos 33\n",
            "O finally executa o bloco havendo ou não exceções\n"
          ],
          "name": "stdout"
        }
      ]
    },
    {
      "cell_type": "markdown",
      "metadata": {
        "id": "wGP8_ILEpODh",
        "colab_type": "text"
      },
      "source": [
        "# >>> Resumindo\n",
        "---\n",
        "* try: seu código\n",
        "* except: tratamento de erro\n",
        "* else: tratamento com senão\n",
        "* Finally: executa com ou sem exceções\n",
        "\n",
        "\n"
      ]
    }
  ]
}