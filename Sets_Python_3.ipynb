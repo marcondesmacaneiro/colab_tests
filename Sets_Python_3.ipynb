{
  "nbformat": 4,
  "nbformat_minor": 0,
  "metadata": {
    "colab": {
      "name": "Sets Python 3.ipynb",
      "provenance": [],
      "collapsed_sections": [],
      "include_colab_link": true
    },
    "kernelspec": {
      "name": "python3",
      "display_name": "Python 3"
    },
    "accelerator": "GPU"
  },
  "cells": [
    {
      "cell_type": "markdown",
      "metadata": {
        "id": "view-in-github",
        "colab_type": "text"
      },
      "source": [
        "<a href=\"https://colab.research.google.com/github/marcondesmacaneiro/colab_tests/blob/master/Sets_Python_3.ipynb\" target=\"_parent\"><img src=\"https://colab.research.google.com/assets/colab-badge.svg\" alt=\"Open In Colab\"/></a>"
      ]
    },
    {
      "cell_type": "markdown",
      "metadata": {
        "id": "vBnZVaoPc4Ns",
        "colab_type": "text"
      },
      "source": [
        "# **Sets(conjuntos**)\n",
        "\n",
        "---\n",
        "\n",
        "Tipo de dado iterável, imutável e sem elementos duplicados. Chamado de conjunto por possuir a mesma notação matemática dos conjuntos."
      ]
    },
    {
      "cell_type": "code",
      "metadata": {
        "id": "j4SvN6wxc2N7",
        "colab_type": "code",
        "colab": {}
      },
      "source": [
        "x = {1,2,3,4,5}\n",
        "print(type(x))"
      ],
      "execution_count": 0,
      "outputs": []
    },
    {
      "cell_type": "code",
      "metadata": {
        "id": "hnaslYw9ds63",
        "colab_type": "code",
        "colab": {}
      },
      "source": [
        "# Método add()\n",
        "x.add(6)\n",
        "print(x)"
      ],
      "execution_count": 0,
      "outputs": []
    },
    {
      "cell_type": "code",
      "metadata": {
        "id": "T9Dv-ag3d3N8",
        "colab_type": "code",
        "colab": {}
      },
      "source": [
        "# Método union()\n",
        "y = {\"um\",\"dois\",\"três\",\"quatro\",\"cinco\"}\n",
        "z = y.union(x)\n",
        "print(z)\n",
        "\n",
        "# ou use \"|\"\n",
        "z = y|x\n",
        "print(z)\n"
      ],
      "execution_count": 0,
      "outputs": []
    },
    {
      "cell_type": "code",
      "metadata": {
        "id": "439K-ohFeolI",
        "colab_type": "code",
        "colab": {}
      },
      "source": [
        "# Método difference() retorna a diferença entre as variáveis\n",
        "z = x.difference(y)\n",
        "print(z)\n",
        "\n",
        "# Possível também subtrair e chegar ao mesmo resultado\n",
        "z = x - y\n",
        "print(z)"
      ],
      "execution_count": 0,
      "outputs": []
    },
    {
      "cell_type": "code",
      "metadata": {
        "id": "AcoXSyXRfYtk",
        "colab_type": "code",
        "colab": {}
      },
      "source": [
        "dir(set)"
      ],
      "execution_count": 0,
      "outputs": []
    },
    {
      "cell_type": "code",
      "metadata": {
        "id": "9DB8ZjdIfbNi",
        "colab_type": "code",
        "colab": {}
      },
      "source": [
        "help(set)"
      ],
      "execution_count": 0,
      "outputs": []
    },
    {
      "cell_type": "markdown",
      "metadata": {
        "id": "X75qvtXndSNS",
        "colab_type": "text"
      },
      "source": [
        "# **Frozen Set**\n",
        "\n",
        "---\n",
        "\n",
        "\"Conjuntos congelados\" são objetos imutáveis que suportam métodos/operadores que não alterem os conjuntos a qual são aplicados."
      ]
    },
    {
      "cell_type": "code",
      "metadata": {
        "id": "ed4hD6Tmdf6U",
        "colab_type": "code",
        "colab": {}
      },
      "source": [
        "frozen = frozenset([\"a\",\"b\",\"c\"])\n",
        "print(frozen)"
      ],
      "execution_count": 0,
      "outputs": []
    },
    {
      "cell_type": "code",
      "metadata": {
        "id": "Q4jSwTH7K2k-",
        "colab_type": "code",
        "colab": {}
      },
      "source": [
        "dir(frozenset)"
      ],
      "execution_count": 0,
      "outputs": []
    },
    {
      "cell_type": "markdown",
      "metadata": {
        "id": "mFnVUCc1IOH5",
        "colab_type": "text"
      },
      "source": [
        "# **Exercícios**\n",
        "\n",
        "---\n",
        "\n"
      ]
    },
    {
      "cell_type": "markdown",
      "metadata": {
        "id": "nDOHaF0qIRsI",
        "colab_type": "text"
      },
      "source": [
        "1. Crie um algoritmo que pede ao usuário para digitar 3 números, diferentes entre sí, um de cada vez. A cada input do usuário insira o input dentro de um set e ao término printe na tela o output de seu set."
      ]
    },
    {
      "cell_type": "code",
      "metadata": {
        "id": "HzRpBg-BISAL",
        "colab_type": "code",
        "colab": {}
      },
      "source": [
        "numeros = set([])\n",
        "print(type(numeros))\n",
        "while True:\n",
        "  numero = int(input('Informe um número: '))\n",
        "  if not numero in numeros:\n",
        "    numeros.add(numero)\n",
        "  if len(numeros) == 3:\n",
        "    break\n",
        "\n",
        "print(numeros)"
      ],
      "execution_count": 0,
      "outputs": []
    },
    {
      "cell_type": "markdown",
      "metadata": {
        "id": "kVNxS2-fISLy",
        "colab_type": "text"
      },
      "source": [
        "2. Crie um algoritmo que receba 3 números como input do usuário e a seguir adicione-o dentro de um frozenset. Ao término, aplique algum atributo frozenset e printe na tela. Utilize dir(frozenset) para selecionar o atributo."
      ]
    },
    {
      "cell_type": "code",
      "metadata": {
        "id": "1obgfpnPISUk",
        "colab_type": "code",
        "colab": {}
      },
      "source": [
        "lista = set([])\n",
        "for i in range(3):\n",
        "  lista.add(int(input('Informe um número: ')))\n",
        "\n",
        "lista_frozen = frozenset(lista)\n",
        "print(lista_frozen)\n",
        "print(type(lista_frozen))"
      ],
      "execution_count": 0,
      "outputs": []
    },
    {
      "cell_type": "markdown",
      "metadata": {
        "id": "2rPIqoDGITAc",
        "colab_type": "text"
      },
      "source": [
        "## **Soluções**\n",
        "\n",
        "---\n",
        "\n"
      ]
    },
    {
      "cell_type": "code",
      "metadata": {
        "id": "OPZo1lIHIW1A",
        "colab_type": "code",
        "colab": {}
      },
      "source": [
        "# 1\n",
        "a = input(\"Digite um número: \")\n",
        "x = set{a}\n",
        "b = input(\"Digite outro número: \")\n",
        "c = input(\"Digite o último número: \")\n",
        "print(x)\n",
        "\n",
        "  "
      ],
      "execution_count": 0,
      "outputs": []
    },
    {
      "cell_type": "code",
      "metadata": {
        "id": "-pXrkmtWIW9x",
        "colab_type": "code",
        "colab": {}
      },
      "source": [
        ""
      ],
      "execution_count": 0,
      "outputs": []
    },
    {
      "cell_type": "code",
      "metadata": {
        "id": "9NDk79dfIXFR",
        "colab_type": "code",
        "colab": {}
      },
      "source": [
        ""
      ],
      "execution_count": 0,
      "outputs": []
    }
  ]
}