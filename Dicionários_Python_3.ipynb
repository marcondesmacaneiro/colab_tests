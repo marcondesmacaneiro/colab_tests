{
  "nbformat": 4,
  "nbformat_minor": 0,
  "metadata": {
    "colab": {
      "name": "Dicionários Python 3.ipynb",
      "provenance": [],
      "collapsed_sections": [],
      "include_colab_link": true
    },
    "kernelspec": {
      "name": "python3",
      "display_name": "Python 3"
    },
    "accelerator": "GPU"
  },
  "cells": [
    {
      "cell_type": "markdown",
      "metadata": {
        "id": "view-in-github",
        "colab_type": "text"
      },
      "source": [
        "<a href=\"https://colab.research.google.com/github/marcondesmacaneiro/colab_tests/blob/master/Dicion%C3%A1rios_Python_3.ipynb\" target=\"_parent\"><img src=\"https://colab.research.google.com/assets/colab-badge.svg\" alt=\"Open In Colab\"/></a>"
      ]
    },
    {
      "cell_type": "markdown",
      "metadata": {
        "id": "vhllsPG5SOzi",
        "colab_type": "text"
      },
      "source": [
        "# **Dicionários**\n",
        "\n",
        "---"
      ]
    },
    {
      "cell_type": "code",
      "metadata": {
        "id": "XtAh-NKWSMvH",
        "colab_type": "code",
        "colab": {}
      },
      "source": [
        "dic = {'nome':\"Marcondes\", 'idade':37, 'altura':1.84}\n",
        "print(type(dic))"
      ],
      "execution_count": 0,
      "outputs": []
    },
    {
      "cell_type": "code",
      "metadata": {
        "id": "GIYYVyeEUGQW",
        "colab_type": "code",
        "colab": {}
      },
      "source": [
        "# Acessando chaves(atributos)\n",
        "print(dic.keys())"
      ],
      "execution_count": 0,
      "outputs": []
    },
    {
      "cell_type": "code",
      "metadata": {
        "id": "vAC1uRbSUJSq",
        "colab_type": "code",
        "colab": {}
      },
      "source": [
        "# Acessando valores\n",
        "print(dic.values())"
      ],
      "execution_count": 0,
      "outputs": []
    },
    {
      "cell_type": "code",
      "metadata": {
        "id": "ZcLY7eQ9UXJQ",
        "colab_type": "code",
        "colab": {}
      },
      "source": [
        "# Acessando valor+chave\n",
        "print(dic.items())"
      ],
      "execution_count": 0,
      "outputs": []
    },
    {
      "cell_type": "code",
      "metadata": {
        "id": "mhCMokTnSnqM",
        "colab_type": "code",
        "colab": {}
      },
      "source": [
        "# Organizando as informações\n",
        "print(f\"O nome dele é {dic['nome']}, tem {dic['idade']} anos e mede {dic['altura']}m\")"
      ],
      "execution_count": 0,
      "outputs": []
    },
    {
      "cell_type": "code",
      "metadata": {
        "id": "YuwOr0BlA54l",
        "colab_type": "code",
        "colab": {}
      },
      "source": [
        "dir(dict)"
      ],
      "execution_count": 0,
      "outputs": []
    },
    {
      "cell_type": "code",
      "metadata": {
        "id": "FPSNbOZQA-Bc",
        "colab_type": "code",
        "colab": {}
      },
      "source": [
        "help(dict)"
      ],
      "execution_count": 0,
      "outputs": []
    },
    {
      "cell_type": "markdown",
      "metadata": {
        "id": "_OO60D1qBEjl",
        "colab_type": "text"
      },
      "source": [
        "# **>>> Exercícios**\n",
        "\n",
        "---\n",
        "\n",
        "\n",
        "\n",
        "\n"
      ]
    },
    {
      "cell_type": "markdown",
      "metadata": {
        "id": "AywDi935hNK2",
        "colab_type": "text"
      },
      "source": [
        "1.   Crie um dicionário com, pelo menos, 3 chaves/valor (fácil)\n"
      ]
    },
    {
      "cell_type": "code",
      "metadata": {
        "id": "NpX99qf4hOqX",
        "colab_type": "code",
        "colab": {}
      },
      "source": [
        "dic = {\"nome\":\"Leticia\", \"idade\":\"10\", \"estuda\":\"sim\"}\n",
        "print(dic)"
      ],
      "execution_count": 0,
      "outputs": []
    },
    {
      "cell_type": "markdown",
      "metadata": {
        "id": "lddPK___hO3e",
        "colab_type": "text"
      },
      "source": [
        "2.   Em uma nova célula remova 1 ítem chave/valor do dicionário criado anteriormente (médio)\n"
      ]
    },
    {
      "cell_type": "code",
      "metadata": {
        "id": "foaE8Ni8hQCn",
        "colab_type": "code",
        "colab": {}
      },
      "source": [
        "dic2 = dict(dic)\n",
        "del dic2[\"estuda\"]\n",
        "print(dic2)"
      ],
      "execution_count": 0,
      "outputs": []
    },
    {
      "cell_type": "markdown",
      "metadata": {
        "id": "6UI_sDbZhQiN",
        "colab_type": "text"
      },
      "source": [
        "3.   Crie um novo dicionário, armazenando-o em uma nova variável e agora unifique este com outro dicionário criado anteriormente (difícil)"
      ]
    },
    {
      "cell_type": "code",
      "metadata": {
        "id": "Id27lDUUhRIY",
        "colab_type": "code",
        "colab": {}
      },
      "source": [
        "dic_novo = {\"pai\":\"marcondes\",\"mae\":\"greice\"}\n",
        "dic_novo.update(dic)\n",
        "print(dic_novo)"
      ],
      "execution_count": 0,
      "outputs": []
    },
    {
      "cell_type": "markdown",
      "metadata": {
        "id": "gAIjkGGYhDyv",
        "colab_type": "text"
      },
      "source": [
        "## **Solução**\n",
        "\n",
        "---\n",
        "\n"
      ]
    },
    {
      "cell_type": "code",
      "metadata": {
        "id": "sE2t7Y4bhSM7",
        "colab_type": "code",
        "colab": {}
      },
      "source": [
        "# Exercício 1"
      ],
      "execution_count": 0,
      "outputs": []
    },
    {
      "cell_type": "code",
      "metadata": {
        "id": "sDw0xRJChSVE",
        "colab_type": "code",
        "colab": {}
      },
      "source": [
        "# Exercício 2"
      ],
      "execution_count": 0,
      "outputs": []
    },
    {
      "cell_type": "code",
      "metadata": {
        "id": "TOXNQi-xhSd0",
        "colab_type": "code",
        "colab": {}
      },
      "source": [
        "# Exercício 3"
      ],
      "execution_count": 0,
      "outputs": []
    }
  ]
}