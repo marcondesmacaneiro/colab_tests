{
  "nbformat": 4,
  "nbformat_minor": 0,
  "metadata": {
    "colab": {
      "name": "Python Conditions .ipynb",
      "provenance": [],
      "collapsed_sections": [],
      "include_colab_link": true
    },
    "kernelspec": {
      "name": "python3",
      "display_name": "Python 3"
    },
    "accelerator": "GPU"
  },
  "cells": [
    {
      "cell_type": "markdown",
      "metadata": {
        "id": "view-in-github",
        "colab_type": "text"
      },
      "source": [
        "<a href=\"https://colab.research.google.com/github/marcondesmacaneiro/colab_tests/blob/master/Python_Conditions_.ipynb\" target=\"_parent\"><img src=\"https://colab.research.google.com/assets/colab-badge.svg\" alt=\"Open In Colab\"/></a>"
      ]
    },
    {
      "cell_type": "markdown",
      "metadata": {
        "id": "LSPHqVUFckTR",
        "colab_type": "text"
      },
      "source": [
        "# **If**"
      ]
    },
    {
      "cell_type": "code",
      "metadata": {
        "id": "UshFBe_vF_EQ",
        "colab_type": "code",
        "colab": {}
      },
      "source": [
        "x = 10\n",
        "if x > 0:\n",
        "\tprint('Número positivo')\n",
        "else:\n",
        "\tprint('Número negativo')"
      ],
      "execution_count": 0,
      "outputs": []
    },
    {
      "cell_type": "markdown",
      "metadata": {
        "id": "hzFJUWCkp1ik",
        "colab_type": "text"
      },
      "source": [
        "# **Conectivos Lógicos**\n",
        "![alt text](http://uploaddeimagens.com.br/images/002/157/511/full/conectivos-logicos.jpg?1561550251)"
      ]
    },
    {
      "cell_type": "code",
      "metadata": {
        "id": "O4RpA6p5baPA",
        "colab_type": "code",
        "colab": {}
      },
      "source": [
        "x = \"janeiro\"\n",
        "if x == 'janeiro' or x == 'fevereiro' or x == 'março':\n",
        "\tprint('Trimestre 1')\n",
        "elif x == 'abril' or x == 'maio' or x == 'junho':\n",
        "\tprint('Trimestre 2')\n",
        "else:\n",
        "\tprint('Trimestre 3')"
      ],
      "execution_count": 0,
      "outputs": []
    },
    {
      "cell_type": "markdown",
      "metadata": {
        "id": "q1yVwPBZl3Jl",
        "colab_type": "text"
      },
      "source": [
        "## **>>> Exercícios**\n",
        "\n",
        "\n",
        "1.   Crie um algoritmo que solicite do usuário um número e calcule se ele é POSITIVO ou NEGATIVO (fácil)\n",
        "2.   Crie um algoritmo que solicite peso e altura e como resultado printe o IMC na tela (médio)\n",
        "3.   Crie um algoritmo que solicite do usuário um número e printe na tela PAR, quando número par e IMPAR, quando número ímpar(difícil)"
      ]
    },
    {
      "cell_type": "code",
      "metadata": {
        "id": "cfgmoCjM_L6v",
        "colab_type": "code",
        "colab": {
          "base_uri": "https://localhost:8080/",
          "height": 51
        },
        "outputId": "7db7ca2b-e3c4-487b-dc57-57c2cbd39093"
      },
      "source": [
        "x = int(input('Informe um número: '))\n",
        "if x > 0:\n",
        "  print('Número positivo')\n",
        "else:\n",
        "  print('Número negativo')"
      ],
      "execution_count": 5,
      "outputs": [
        {
          "output_type": "stream",
          "text": [
            "Informe um número: -2\n",
            "Número negativo\n"
          ],
          "name": "stdout"
        }
      ]
    },
    {
      "cell_type": "code",
      "metadata": {
        "id": "M5_dlUyy_oAQ",
        "colab_type": "code",
        "colab": {
          "base_uri": "https://localhost:8080/",
          "height": 68
        },
        "outputId": "608e8691-47bd-41d0-939c-63cc2edb075d"
      },
      "source": [
        "peso = int(input('Qual o seu peso? '))\n",
        "altura = float(input('Qual a sua altura? '))\n",
        "\n",
        "imc = peso/altura**2\n",
        "\n",
        "print('Seu imc é ?.',int(imc))"
      ],
      "execution_count": 8,
      "outputs": [
        {
          "output_type": "stream",
          "text": [
            "Qual o seu peso?120\n",
            "Qual a sua altura1.84\n",
            "Seu imc é ?. 35\n"
          ],
          "name": "stdout"
        }
      ]
    },
    {
      "cell_type": "code",
      "metadata": {
        "id": "yZCZ4pnFAy9l",
        "colab_type": "code",
        "colab": {
          "base_uri": "https://localhost:8080/",
          "height": 51
        },
        "outputId": "d8dea1de-98d2-44ad-86db-1e48abf08f51"
      },
      "source": [
        "numero = int(input('Informe um número: '))\n",
        "\n",
        "if (numero%2==0):\n",
        "  print('PAR')\n",
        "else:\n",
        "  print('IMPAR')"
      ],
      "execution_count": 9,
      "outputs": [
        {
          "output_type": "stream",
          "text": [
            "Informe um número: 5\n",
            "IMPAR\n"
          ],
          "name": "stdout"
        }
      ]
    }
  ]
}