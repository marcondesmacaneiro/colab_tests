{
  "nbformat": 4,
  "nbformat_minor": 0,
  "metadata": {
    "colab": {
      "name": "Selenium Python 3.ipynb",
      "provenance": [],
      "include_colab_link": true
    },
    "kernelspec": {
      "name": "python3",
      "display_name": "Python 3"
    },
    "accelerator": "GPU"
  },
  "cells": [
    {
      "cell_type": "markdown",
      "metadata": {
        "id": "view-in-github",
        "colab_type": "text"
      },
      "source": [
        "<a href=\"https://colab.research.google.com/github/marcondesmacaneiro/colab_tests/blob/master/Selenium_Python_3.ipynb\" target=\"_parent\"><img src=\"https://colab.research.google.com/assets/colab-badge.svg\" alt=\"Open In Colab\"/></a>"
      ]
    },
    {
      "cell_type": "markdown",
      "metadata": {
        "id": "IfGEIkx3h8Be",
        "colab_type": "text"
      },
      "source": [
        "# **>>> Lidando com Selenium**\n",
        "\n",
        "---\n",
        "Principal biblioteca utilizada para testes automatizados, entretanto, muito útil para Web Scraping pela facilidade de lidar com os elementos html, css, js e xpath.\n"
      ]
    },
    {
      "cell_type": "code",
      "metadata": {
        "id": "Qgvje1uvh6Zx",
        "colab_type": "code",
        "colab": {}
      },
      "source": [
        "!pip install selenium\n",
        "import selenium"
      ],
      "execution_count": 0,
      "outputs": []
    },
    {
      "cell_type": "markdown",
      "metadata": {
        "id": "gDxOYKeNjd_0",
        "colab_type": "text"
      },
      "source": [
        "## Aquisição de dados através de elementos\n",
        "\n",
        "---\n",
        "<br>find_element_by_id\n",
        "<br>find_element_by_name\n",
        "<br>find_element_by_xpath\n",
        "<br>find_element_by_link_text\n",
        "<br>find_element_by_partial_link_text\n",
        "<br>find_element_by_tag_name\n",
        "<br>find_element_by_class_name\n",
        "<br>find_element_by_css_selector\n",
        "<br>Obs.: o selenium permite ainda a interação com diversos elementos ao utilizar **.click()**"
      ]
    },
    {
      "cell_type": "markdown",
      "metadata": {
        "id": "VIzvRaqcFSmk",
        "colab_type": "text"
      },
      "source": [
        "# >>> Alguns métodos para \"find_element_by...\"\n",
        "\n",
        "---\n",
        " >Exemplo | Descrição\n",
        ">--- | ---\n",
        ">.click() | clica no elemento.\n",
        ">.send_keys() | simula a digitação no elemento. Insira uma string, uma lista ou uma série de teclas .\n",
        ">.screenshot() | Salva o elemento atual em PNG.\n",
        ">.submit() | envia o formulário.\n"
      ]
    },
    {
      "cell_type": "markdown",
      "metadata": {
        "id": "yQ-p4l8CjQXd",
        "colab_type": "text"
      },
      "source": [
        "# Xpath\n",
        "\n",
        "---\n",
        "\n",
        "Utilizado para encontrar nós em arquivos XML, muito útil para raspar dados com Selenium. Xpath vai além dos seletores CSS trazendo consigo alguns atributos extras como:\n",
        ">Elemento | Descrição\n",
        ">--- | ---\n",
        "> nodename | seleciona todos os nós com o nome “nodename”;\n",
        " > / | seleciona a partir do nó raiz;\n",
        " > // | pode ser usado para pular vários níveis de nós e pesquisar por todos descendentes para realizar uma seleção;\n",
        "> . | seleciona o nó atual;\n",
        "> ..  | seleciona o pai do nó atual;\n",
        " > @ | seleciona atributos.\n",
        "\n",
        "--- \n",
        " >Exemplo | Descrição\n",
        ">--- | ---\n",
        " >/html/body/form[1] | capta o primeiro elemento form em “< body >”;\n",
        ">//form[1] | capta o primeiro form de todo documento html;\n",
        ">//form[@id='form dark'] |  capta o elemento com o atributo id \"form dark\";"
      ]
    },
    {
      "cell_type": "code",
      "metadata": {
        "id": "D7U6zq74lCX7",
        "colab_type": "code",
        "colab": {}
      },
      "source": [
        "from selenium import webdriver\n",
        "url = 'https://pt.wikipedia.org/wiki/Intelig%C3%AAncia_artificial'\n",
        "driver = webdriver.Chrome()\n",
        "driver.get(url)\n",
        "x = driver.find_element_by_xpath('//*[@id=\"mw-content-text\"]/div/p[1]')\n",
        "print(x.text)\n"
      ],
      "execution_count": 0,
      "outputs": []
    },
    {
      "cell_type": "markdown",
      "metadata": {
        "id": "EAXv8qMXdFvF",
        "colab_type": "text"
      },
      "source": [
        "**>>> Faça o download do chromedriver em https://sites.google.com/a/chromium.org/chromedriver/home"
      ]
    },
    {
      "cell_type": "markdown",
      "metadata": {
        "id": "hkKRRmr3w53f",
        "colab_type": "text"
      },
      "source": [
        "# **Execute em sua IDE ou EDITOR DE TEXTO**\n",
        "\n",
        "---\n",
        "\n"
      ]
    },
    {
      "cell_type": "code",
      "metadata": {
        "id": "Sr1wTFzxwIcM",
        "colab_type": "code",
        "colab": {}
      },
      "source": [
        "import os\n",
        "from selenium import webdriver\n",
        "dir_path = os.getcwd()\n",
        "url = 'http://www.google.com'\n",
        "driver = webdriver.Chrome(dir_path+'/chromedriver.exe')\n",
        "driver.get(url)\n",
        "pesquisa = driver.find_element_by_name(\"q\")\n",
        "pesquisa.send_keys(\"qoda chatbots whatsapp\")"
      ],
      "execution_count": 0,
      "outputs": []
    },
    {
      "cell_type": "code",
      "metadata": {
        "id": "nGHP6uRzwzcq",
        "colab_type": "code",
        "colab": {}
      },
      "source": [
        "from selenium.webdriver.chrome.options import Options\n",
        "chrome_options = Options()\n",
        "chrome_options.add_argument(\"--headless\") # execute no backend sem navegador\n",
        "\n",
        "import os\n",
        "from selenium import webdriver\n",
        "dir_path = os.getcwd()\n",
        "url = 'http://www.google.com'\n",
        "driver = webdriver.Chrome(dir_path+'/chromedriver.exe',chrome_options=chrome_options)\n",
        "driver.get(url)\n",
        "pesquisa = driver.find_element_by_name(\"q\")\n",
        "pesquisa.send_keys(\"qoda chatbots whatsapp\")\n",
        "print(\"feito!\")"
      ],
      "execution_count": 0,
      "outputs": []
    }
  ]
}