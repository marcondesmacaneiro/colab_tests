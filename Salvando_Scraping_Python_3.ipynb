{
  "nbformat": 4,
  "nbformat_minor": 0,
  "metadata": {
    "colab": {
      "name": "Salvando Scraping Python 3.ipynb",
      "provenance": [],
      "collapsed_sections": [],
      "include_colab_link": true
    },
    "kernelspec": {
      "name": "python3",
      "display_name": "Python 3"
    },
    "accelerator": "GPU"
  },
  "cells": [
    {
      "cell_type": "markdown",
      "metadata": {
        "id": "view-in-github",
        "colab_type": "text"
      },
      "source": [
        "<a href=\"https://colab.research.google.com/github/marcondesmacaneiro/colab_tests/blob/master/Salvando_Scraping_Python_3.ipynb\" target=\"_parent\"><img src=\"https://colab.research.google.com/assets/colab-badge.svg\" alt=\"Open In Colab\"/></a>"
      ]
    },
    {
      "cell_type": "markdown",
      "metadata": {
        "id": "RDLietbIhvbh",
        "colab_type": "text"
      },
      "source": [
        "#*>>> Salvando os dados obtidos*\n",
        "\n",
        "---\n",
        "\n",
        "CSV, TXT, JSON"
      ]
    },
    {
      "cell_type": "code",
      "metadata": {
        "id": "yZ3oV6xphkt0",
        "colab_type": "code",
        "colab": {}
      },
      "source": [
        "import requests\n",
        "url = 'https://pt.wikipedia.org/wiki/Intelig%C3%AAncia_artificial'\n",
        "r = requests.get(url)\n",
        "html = r.text\n",
        "\n",
        "from bs4 import BeautifulSoup\n",
        "html_bs = BeautifulSoup(html)"
      ],
      "execution_count": 0,
      "outputs": []
    },
    {
      "cell_type": "markdown",
      "metadata": {
        "id": "gZHgW-lIrLey",
        "colab_type": "text"
      },
      "source": [
        "## Csv"
      ]
    },
    {
      "cell_type": "code",
      "metadata": {
        "id": "Fvh2L73eppgS",
        "colab_type": "code",
        "colab": {}
      },
      "source": [
        "import csv"
      ],
      "execution_count": 0,
      "outputs": []
    },
    {
      "cell_type": "code",
      "metadata": {
        "id": "zOr8gmZtiw-B",
        "colab_type": "code",
        "colab": {}
      },
      "source": [
        "help(csv)"
      ],
      "execution_count": 0,
      "outputs": []
    },
    {
      "cell_type": "code",
      "metadata": {
        "id": "Wjrp0EGtiyZI",
        "colab_type": "code",
        "colab": {}
      },
      "source": [
        "dir(csv)"
      ],
      "execution_count": 0,
      "outputs": []
    },
    {
      "cell_type": "code",
      "metadata": {
        "id": "E_KG4_5yidpq",
        "colab_type": "code",
        "colab": {}
      },
      "source": [
        "# Escrever\n",
        "with open('ia.csv', 'w') as ia:\n",
        "  go = csv.writer(ia, lineterminator=\"\\n\")\n",
        "  go.writerow(['Coluna1', 'Coluna2']) #cabeçalho\n",
        "  go.writerow(['test1','teste2']) #linhas"
      ],
      "execution_count": 0,
      "outputs": []
    },
    {
      "cell_type": "code",
      "metadata": {
        "id": "_SD132LBjqqm",
        "colab_type": "code",
        "colab": {}
      },
      "source": [
        "# Ler o escrito\n",
        "with open('ia.csv', 'r') as ia:\n",
        "  print(ia.read())"
      ],
      "execution_count": 0,
      "outputs": []
    },
    {
      "cell_type": "code",
      "metadata": {
        "id": "5ppojca9oepc",
        "colab_type": "code",
        "colab": {}
      },
      "source": [
        "# Juntando tudo\n",
        "with open('ia.csv', 'w') as ia:\n",
        "    go = csv.writer(ia, lineterminator=\"\\n\")\n",
        "    go.writerow(['Referência Wikipedia']) # nosso cabeçalho \n"
      ],
      "execution_count": 0,
      "outputs": []
    },
    {
      "cell_type": "code",
      "metadata": {
        "id": "xSkL9BUKoEh7",
        "colab_type": "code",
        "colab": {}
      },
      "source": [
        "cits = html_bs.find_all('cite', class_='citation')\n",
        "for cit in cits:\n",
        "  with open('ia.csv', 'a') as ia:\n",
        "    go = csv.writer(ia, lineterminator=\"\\n\")\n",
        "    go.writerow([cit.text])"
      ],
      "execution_count": 0,
      "outputs": []
    },
    {
      "cell_type": "code",
      "metadata": {
        "id": "8oYGks3ikF4v",
        "colab_type": "code",
        "colab": {}
      },
      "source": [
        "# Fazer o Download para sua máquina\n",
        "from google.colab import files\n",
        "files.download('ia.csv')"
      ],
      "execution_count": 0,
      "outputs": []
    },
    {
      "cell_type": "markdown",
      "metadata": {
        "id": "rRrqlwlgtoIv",
        "colab_type": "text"
      },
      "source": [
        "## Txt"
      ]
    },
    {
      "cell_type": "code",
      "metadata": {
        "id": "9gCwsjfvixLI",
        "colab_type": "code",
        "colab": {}
      },
      "source": [
        "# Encontra título e descrição\n",
        "h1 = html_bs.find('h1')\n",
        "p = html_bs.find('p')"
      ],
      "execution_count": 0,
      "outputs": []
    },
    {
      "cell_type": "code",
      "metadata": {
        "id": "UXHKlwt8jqNv",
        "colab_type": "code",
        "colab": {}
      },
      "source": [
        "texto = f'{h1.text}\\n{p.text}'\n",
        "print(texto)"
      ],
      "execution_count": 0,
      "outputs": []
    },
    {
      "cell_type": "code",
      "metadata": {
        "id": "baWDh-L2p5vC",
        "colab_type": "code",
        "colab": {}
      },
      "source": [
        "with open('ia.txt', 'w') as arq:\n",
        "  arq.write(texto)"
      ],
      "execution_count": 0,
      "outputs": []
    },
    {
      "cell_type": "code",
      "metadata": {
        "id": "BuRqYkb7qa_Y",
        "colab_type": "code",
        "colab": {}
      },
      "source": [
        "# Fazer o Download para sua máquina\n",
        "from google.colab import files\n",
        "files.download('ia.txt')"
      ],
      "execution_count": 0,
      "outputs": []
    },
    {
      "cell_type": "markdown",
      "metadata": {
        "id": "piM90KxprOsJ",
        "colab_type": "text"
      },
      "source": [
        "## JSON"
      ]
    },
    {
      "cell_type": "code",
      "metadata": {
        "id": "0IOh8qPwrRNB",
        "colab_type": "code",
        "colab": {}
      },
      "source": [
        "import json\n",
        "with open('ia.json', 'w') as out:\n",
        "    json.dump([{'email':'terra'},{'email':'yahoo'},{'email':'gmail'}],out,sort_keys=True)"
      ],
      "execution_count": 0,
      "outputs": []
    },
    {
      "cell_type": "code",
      "metadata": {
        "id": "Fe9jQcrdtA6n",
        "colab_type": "code",
        "colab": {}
      },
      "source": [
        "with open('ia.json', 'r') as out:\n",
        "  ler = json.load(out)\n",
        "print(ler)"
      ],
      "execution_count": 0,
      "outputs": []
    },
    {
      "cell_type": "markdown",
      "metadata": {
        "id": "37JdyHNXTf3X",
        "colab_type": "text"
      },
      "source": [
        "# Exercícios\n",
        "\n",
        "---\n",
        "\n",
        "Tente, de forma pro-ativa, estabelecer conexões SQL e NoSQL salvando dados de um scraper seu a uma base SQL, utilizando a biblioteca sqlite3 e NoSQL com mongodb ja instalado em sua máquina com pymongo."
      ]
    }
  ]
}