{
  "nbformat": 4,
  "nbformat_minor": 0,
  "metadata": {
    "colab": {
      "name": "Pacotes Python 3.ipynb",
      "provenance": [],
      "include_colab_link": true
    },
    "kernelspec": {
      "name": "python3",
      "display_name": "Python 3"
    }
  },
  "cells": [
    {
      "cell_type": "markdown",
      "metadata": {
        "id": "view-in-github",
        "colab_type": "text"
      },
      "source": [
        "<a href=\"https://colab.research.google.com/github/marcondesmacaneiro/colab_tests/blob/master/Pacotes_Python_3.ipynb\" target=\"_parent\"><img src=\"https://colab.research.google.com/assets/colab-badge.svg\" alt=\"Open In Colab\"/></a>"
      ]
    },
    {
      "cell_type": "code",
      "metadata": {
        "id": "TX4-TugmSPJ6",
        "colab_type": "code",
        "colab": {
          "base_uri": "https://localhost:8080/",
          "height": 51
        },
        "outputId": "372c3add-57a2-4071-e9aa-c98fdbb2307e"
      },
      "source": [
        "# Antes de utilizar um pacote eles precisam sem importados\n",
        "# aqui no Google Colab para importar um pacotes devemos usar o caracter !\n",
        "# antes do comando de instalação\n",
        "\n",
        "!pip install nltk"
      ],
      "execution_count": 1,
      "outputs": [
        {
          "output_type": "stream",
          "text": [
            "Requirement already satisfied: nltk in /usr/local/lib/python3.6/dist-packages (3.2.5)\n",
            "Requirement already satisfied: six in /usr/local/lib/python3.6/dist-packages (from nltk) (1.12.0)\n"
          ],
          "name": "stdout"
        }
      ]
    },
    {
      "cell_type": "code",
      "metadata": {
        "id": "R5TX6DG_StaS",
        "colab_type": "code",
        "colab": {}
      },
      "source": [
        "# Pacotes built-in\n",
        "import os\n",
        "import random\n",
        "import math"
      ],
      "execution_count": 0,
      "outputs": []
    },
    {
      "cell_type": "code",
      "metadata": {
        "id": "DP7jctMQS6p9",
        "colab_type": "code",
        "colab": {}
      },
      "source": [
        "dir(random)"
      ],
      "execution_count": 0,
      "outputs": []
    },
    {
      "cell_type": "code",
      "metadata": {
        "id": "2RiyUiBZS_f5",
        "colab_type": "code",
        "colab": {}
      },
      "source": [
        "# Testando o módulo random\n",
        "print(random.choices(['Marcondes','Greice','Leticia']))"
      ],
      "execution_count": 0,
      "outputs": []
    },
    {
      "cell_type": "code",
      "metadata": {
        "id": "uSZ3BuLFThgf",
        "colab_type": "code",
        "colab": {}
      },
      "source": [
        "# Analisando os atributos do pacote os\n",
        "dir(os)"
      ],
      "execution_count": 0,
      "outputs": []
    },
    {
      "cell_type": "code",
      "metadata": {
        "id": "vPmA3T4NTmfy",
        "colab_type": "code",
        "colab": {
          "base_uri": "https://localhost:8080/",
          "height": 34
        },
        "outputId": "eac31b57-a0c7-475d-a77a-e63760c559cc"
      },
      "source": [
        "# Listando o diretório atual de trabalho\n",
        "os.getcwd()"
      ],
      "execution_count": 12,
      "outputs": [
        {
          "output_type": "execute_result",
          "data": {
            "text/plain": [
              "'/content'"
            ]
          },
          "metadata": {
            "tags": []
          },
          "execution_count": 12
        }
      ]
    },
    {
      "cell_type": "code",
      "metadata": {
        "id": "u67iJ14XT74X",
        "colab_type": "code",
        "colab": {
          "base_uri": "https://localhost:8080/",
          "height": 34
        },
        "outputId": "cdf7236a-94bb-4964-ad73-dd20f71ee319"
      },
      "source": [
        "# Testando a atributo pi do pacote math\n",
        "print(math.pi)"
      ],
      "execution_count": 13,
      "outputs": [
        {
          "output_type": "stream",
          "text": [
            "3.141592653589793\n"
          ],
          "name": "stdout"
        }
      ]
    }
  ]
}