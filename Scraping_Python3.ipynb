{
  "nbformat": 4,
  "nbformat_minor": 0,
  "metadata": {
    "colab": {
      "name": "Scraping Python3.ipynb",
      "provenance": [],
      "include_colab_link": true
    },
    "kernelspec": {
      "name": "python3",
      "display_name": "Python 3"
    },
    "accelerator": "GPU"
  },
  "cells": [
    {
      "cell_type": "markdown",
      "metadata": {
        "id": "view-in-github",
        "colab_type": "text"
      },
      "source": [
        "<a href=\"https://colab.research.google.com/github/marcondesmacaneiro/colab_tests/blob/master/Scraping_Python3.ipynb\" target=\"_parent\"><img src=\"https://colab.research.google.com/assets/colab-badge.svg\" alt=\"Open In Colab\"/></a>"
      ]
    },
    {
      "cell_type": "markdown",
      "metadata": {
        "id": "g_0ErsKxuBUV",
        "colab_type": "text"
      },
      "source": [
        "# **>>> Beatiful Soup**\n",
        "\n",
        "---\n",
        "\n",
        "Documentação em: https://www.crummy.com/software/BeautifulSoup/bs4/doc/"
      ]
    },
    {
      "cell_type": "code",
      "metadata": {
        "id": "HrumXFOVtxq4",
        "colab_type": "code",
        "colab": {}
      },
      "source": [
        "import requests\n",
        "url = 'https://pt.wikipedia.org/wiki/Intelig%C3%AAncia_artificial'\n",
        "r = requests.get(url)\n",
        "html = r.text"
      ],
      "execution_count": 0,
      "outputs": []
    },
    {
      "cell_type": "code",
      "metadata": {
        "id": "zY0uigBgv48J",
        "colab_type": "code",
        "colab": {}
      },
      "source": [
        "!pip install beautifulsoup4"
      ],
      "execution_count": 0,
      "outputs": []
    },
    {
      "cell_type": "code",
      "metadata": {
        "id": "NUGTlTG6_nbV",
        "colab_type": "code",
        "colab": {}
      },
      "source": [
        "from bs4 import BeautifulSoup\n",
        "dir(BeautifulSoup)"
      ],
      "execution_count": 0,
      "outputs": []
    },
    {
      "cell_type": "code",
      "metadata": {
        "id": "4ST4JciKv9Jo",
        "colab_type": "code",
        "colab": {}
      },
      "source": [
        "from bs4 import BeautifulSoup\n",
        "html_bs = BeautifulSoup(html)\n",
        "html_bs\n"
      ],
      "execution_count": 0,
      "outputs": []
    },
    {
      "cell_type": "code",
      "metadata": {
        "id": "lt1lHRbCxZIY",
        "colab_type": "code",
        "colab": {}
      },
      "source": [
        "help(BeautifulSoup.find)"
      ],
      "execution_count": 0,
      "outputs": []
    },
    {
      "cell_type": "code",
      "metadata": {
        "id": "hUyuZ0nNxisf",
        "colab_type": "code",
        "colab": {}
      },
      "source": [
        "help(BeautifulSoup.find_all)"
      ],
      "execution_count": 0,
      "outputs": []
    },
    {
      "cell_type": "code",
      "metadata": {
        "id": "Jumyv4aux4DB",
        "colab_type": "code",
        "colab": {}
      },
      "source": [
        "print(html_bs.find('h1'))"
      ],
      "execution_count": 0,
      "outputs": []
    },
    {
      "cell_type": "code",
      "metadata": {
        "id": "1ZH5PQ10x-OQ",
        "colab_type": "code",
        "colab": {}
      },
      "source": [
        "print(html_bs.find('', {'id': 'p-logo'}))"
      ],
      "execution_count": 0,
      "outputs": []
    },
    {
      "cell_type": "code",
      "metadata": {
        "id": "PPWeeQFox_dv",
        "colab_type": "code",
        "colab": {}
      },
      "source": [
        "for titulo in html_bs.find_all(['h1', 'h2']):\n",
        "  print(titulo)"
      ],
      "execution_count": 0,
      "outputs": []
    },
    {
      "cell_type": "code",
      "metadata": {
        "id": "bsfzJTd09R3X",
        "colab_type": "code",
        "colab": {}
      },
      "source": [
        "# Encontra o primeiro h1\n",
        "h1 = html_bs.find('h1')\n",
        "print(h1.name) # h1\n"
      ],
      "execution_count": 0,
      "outputs": []
    },
    {
      "cell_type": "code",
      "metadata": {
        "id": "KBXKCjsW9vVA",
        "colab_type": "code",
        "colab": {}
      },
      "source": [
        "print(h1.contents) # Conteúdo do primeiro Título h1\n"
      ],
      "execution_count": 0,
      "outputs": []
    },
    {
      "cell_type": "code",
      "metadata": {
        "id": "cbtBXdoC9xcO",
        "colab_type": "code",
        "colab": {}
      },
      "source": [
        "print(str(h1))\n"
      ],
      "execution_count": 0,
      "outputs": []
    },
    {
      "cell_type": "code",
      "metadata": {
        "id": "LBVrTDT690LO",
        "colab_type": "code",
        "colab": {}
      },
      "source": [
        "print(h1.text) # Título principal da página\n"
      ],
      "execution_count": 0,
      "outputs": []
    },
    {
      "cell_type": "code",
      "metadata": {
        "id": "E56rGIgg92Be",
        "colab_type": "code",
        "colab": {}
      },
      "source": [
        "print(h1.get_text()) # Does the same\n"
      ],
      "execution_count": 0,
      "outputs": []
    },
    {
      "cell_type": "code",
      "metadata": {
        "id": "mdBVnwyP93X2",
        "colab_type": "code",
        "colab": {}
      },
      "source": [
        "print(h1.attrs)\n"
      ],
      "execution_count": 0,
      "outputs": []
    },
    {
      "cell_type": "code",
      "metadata": {
        "id": "VzyyAv8x94nm",
        "colab_type": "code",
        "colab": {}
      },
      "source": [
        "# Printa: {'id': 'firstHeading', 'class': ['firstHeading'], 'lang': 'pt'}\n",
        "print(h1.attrs['id']) # firstHeading\n"
      ],
      "execution_count": 0,
      "outputs": []
    },
    {
      "cell_type": "code",
      "metadata": {
        "id": "7E_dTjt7993e",
        "colab_type": "code",
        "colab": {}
      },
      "source": [
        "print(h1['id']) # Faz o mesmo\n"
      ],
      "execution_count": 0,
      "outputs": []
    },
    {
      "cell_type": "code",
      "metadata": {
        "id": "yslcliCj9_Vm",
        "colab_type": "code",
        "colab": {}
      },
      "source": [
        "print(h1.get('id')) # Faz o mesmo\n"
      ],
      "execution_count": 0,
      "outputs": []
    },
    {
      "cell_type": "code",
      "metadata": {
        "id": "qmrJODcs-BVu",
        "colab_type": "code",
        "colab": {}
      },
      "source": [
        "print('>>>>> CITAÇÕES <<<<<')\n",
        "# Encontra as primeiras 3 citações contidas na classe \"citation\"\n",
        "cits = html_bs.find_all('cite', class_='citation', limit=3)\n",
        "for cit in cits:\n",
        "  print(cit.get_text())\n"
      ],
      "execution_count": 0,
      "outputs": []
    },
    {
      "cell_type": "code",
      "metadata": {
        "id": "ZN9d5YI3-FWu",
        "colab_type": "code",
        "colab": {}
      },
      "source": [
        "# Dentro desta tag, encontre o primeiro link, tag <a>\n",
        "link = cit.find('a')\n",
        "# Print a URL\n",
        "print(link.get('href'))\n",
        "print()"
      ],
      "execution_count": 0,
      "outputs": []
    },
    {
      "cell_type": "markdown",
      "metadata": {
        "id": "39SNdiswBsED",
        "colab_type": "text"
      },
      "source": [
        "## **Extraindo links de uma página(ou mais)**\n",
        "\n",
        "---\n",
        "\n"
      ]
    },
    {
      "cell_type": "code",
      "metadata": {
        "id": "aFo0ZfmsBxcr",
        "colab_type": "code",
        "colab": {}
      },
      "source": [
        "from urllib.request import urlopen, urljoin\n",
        "import re\n",
        "\n",
        "def pg(url):\n",
        "  return urlopen(url).read().decode('utf-8')\n",
        "def le(pagina):\n",
        "  lr = re.compile('<a[^>]+href=[\"\\'](.*?)[\"\\']',re.IGNORECASE)\n",
        "  return lr.findall(pagina)\n",
        "\n",
        "if __name__ == '__main__':\n",
        "  site = 'https://pt.wikipedia.org/wiki/Intelig%C3%AAncia_artificial'\n",
        "  wiki_ia = pg(site)\n",
        "  links = le(wiki_ia)\n",
        "  for link in links:\n",
        "    print(urljoin(site, link))"
      ],
      "execution_count": 0,
      "outputs": []
    },
    {
      "cell_type": "markdown",
      "metadata": {
        "id": "99hfxH68C2Bz",
        "colab_type": "text"
      },
      "source": [
        "## **Extraindo imagens**\n",
        "\n",
        "---\n",
        "\n"
      ]
    },
    {
      "cell_type": "code",
      "metadata": {
        "id": "tmZzVS9AC5Xz",
        "colab_type": "code",
        "colab": {}
      },
      "source": [
        "from urllib.request import urlopen, urljoin\n",
        "import re\n",
        "def pg(url):\n",
        "  return urlopen(url).read().decode('utf-8')\n",
        "def imgs(pagina):\n",
        "  img_regex = re.compile('<img[^>]+src=[\"\\'](.*?)[\"\\']',re.IGNORECASE)\n",
        "  return img_regex.findall(pagina)\n",
        "if __name__ == '__main__':\n",
        "  site = 'https://pt.wikipedia.org/wiki/Intelig%C3%AAncia_artificial'\n",
        "  wiki_ia = pg(site)\n",
        "  link_imgs = imgs(wiki_ia)\n",
        "  for src in link_imgs:\n",
        "    print(urljoin(site, src))"
      ],
      "execution_count": 0,
      "outputs": []
    }
  ]
}