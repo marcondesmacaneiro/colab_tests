{
  "nbformat": 4,
  "nbformat_minor": 0,
  "metadata": {
    "colab": {
      "name": "Programação Orientada a Objetos em Python 3.ipynb",
      "provenance": [],
      "include_colab_link": true
    },
    "kernelspec": {
      "name": "python3",
      "display_name": "Python 3"
    }
  },
  "cells": [
    {
      "cell_type": "markdown",
      "metadata": {
        "id": "view-in-github",
        "colab_type": "text"
      },
      "source": [
        "<a href=\"https://colab.research.google.com/github/marcondesmacaneiro/colab_tests/blob/master/Programa%C3%A7%C3%A3o_Orientada_a_Objetos_em_Python_3.ipynb\" target=\"_parent\"><img src=\"https://colab.research.google.com/assets/colab-badge.svg\" alt=\"Open In Colab\"/></a>"
      ]
    },
    {
      "cell_type": "code",
      "metadata": {
        "id": "n9tSp5kuba4r",
        "colab_type": "code",
        "colab": {}
      },
      "source": [
        "class Carro:\n",
        "  pass"
      ],
      "execution_count": 0,
      "outputs": []
    },
    {
      "cell_type": "code",
      "metadata": {
        "id": "yQKa1SJXbmn9",
        "colab_type": "code",
        "colab": {
          "base_uri": "https://localhost:8080/",
          "height": 34
        },
        "outputId": "025585c9-f43f-4822-c262-83197311cd7d"
      },
      "source": [
        "# Criando uma classe\n",
        "class Pessoa:\n",
        "  def __init__(self, nome, idade):\n",
        "    self.nome = nome\n",
        "    self.idade = idade\n",
        "\n",
        "p1 = Pessoa('Marcondes', 37)\n",
        "\n",
        "print(p1.nome)"
      ],
      "execution_count": 2,
      "outputs": [
        {
          "output_type": "stream",
          "text": [
            "Marcondes\n"
          ],
          "name": "stdout"
        }
      ]
    },
    {
      "cell_type": "code",
      "metadata": {
        "id": "ALpQCTYIcCoQ",
        "colab_type": "code",
        "colab": {
          "base_uri": "https://localhost:8080/",
          "height": 34
        },
        "outputId": "4c69eaa9-69fe-4d7e-e1f7-15ddccd0162b"
      },
      "source": [
        "getattr(p1, \"nome\")"
      ],
      "execution_count": 3,
      "outputs": [
        {
          "output_type": "execute_result",
          "data": {
            "text/plain": [
              "'Marcondes'"
            ]
          },
          "metadata": {
            "tags": []
          },
          "execution_count": 3
        }
      ]
    },
    {
      "cell_type": "code",
      "metadata": {
        "id": "1oUdM5LPcHhA",
        "colab_type": "code",
        "colab": {
          "base_uri": "https://localhost:8080/",
          "height": 34
        },
        "outputId": "f847574a-9111-4df7-efba-d3ced5c24d2d"
      },
      "source": [
        "setattr(p1, \"nome\", \"Marcondes Maçaneiro\")\n",
        "getattr(p1, \"nome\")"
      ],
      "execution_count": 5,
      "outputs": [
        {
          "output_type": "execute_result",
          "data": {
            "text/plain": [
              "'Marcondes Maçaneiro'"
            ]
          },
          "metadata": {
            "tags": []
          },
          "execution_count": 5
        }
      ]
    },
    {
      "cell_type": "markdown",
      "metadata": {
        "id": "G9DxT9NQcXen",
        "colab_type": "text"
      },
      "source": [
        "Objetos"
      ]
    },
    {
      "cell_type": "code",
      "metadata": {
        "id": "FSGl5wWFcTCz",
        "colab_type": "code",
        "colab": {
          "base_uri": "https://localhost:8080/",
          "height": 34
        },
        "outputId": "3b206540-b769-456a-f082-cbfd73f90b9a"
      },
      "source": [
        "fusca = Carro()\n",
        "print(fusca)"
      ],
      "execution_count": 6,
      "outputs": [
        {
          "output_type": "stream",
          "text": [
            "<__main__.Carro object at 0x7f8dcf0b8588>\n"
          ],
          "name": "stdout"
        }
      ]
    },
    {
      "cell_type": "code",
      "metadata": {
        "id": "GpbGF_Q3duJp",
        "colab_type": "code",
        "colab": {
          "base_uri": "https://localhost:8080/",
          "height": 34
        },
        "outputId": "5defc247-4943-4eca-b6a2-e11a94d32ae0"
      },
      "source": [
        "lista = [1,2,3,4]\n",
        "print(type(lista))"
      ],
      "execution_count": 9,
      "outputs": [
        {
          "output_type": "stream",
          "text": [
            "<class 'list'>\n"
          ],
          "name": "stdout"
        }
      ]
    },
    {
      "cell_type": "code",
      "metadata": {
        "id": "5oNDf05Pd0DZ",
        "colab_type": "code",
        "colab": {}
      },
      "source": [
        "# Atributos e o método __init__(contrutor)\n",
        "class Carro():\n",
        "  def __init__(self,rodas,tanque,bancos,velocidade):\n",
        "    self.rodas = rodas\n",
        "    self.tanque = tanque\n",
        "    self.bancos = bancos\n",
        "    self.velocidade = velocidade"
      ],
      "execution_count": 0,
      "outputs": []
    },
    {
      "cell_type": "code",
      "metadata": {
        "id": "e4403MeqeR69",
        "colab_type": "code",
        "colab": {}
      },
      "source": [
        "# Criando o objeto com atributos\n",
        "tesla = Carro(4,\"200 litros\",5,\"250 km/h\")"
      ],
      "execution_count": 0,
      "outputs": []
    },
    {
      "cell_type": "code",
      "metadata": {
        "id": "1xyZf-7veki7",
        "colab_type": "code",
        "colab": {
          "base_uri": "https://localhost:8080/",
          "height": 34
        },
        "outputId": "27b698ac-7f80-4bfb-fe7a-c6da9552983e"
      },
      "source": [
        "print(f\"Nosso veículo possui {tesla.rodas} rodas, tanque com capacidade de até {tesla.tanque}, {tesla.bancos} assentos e acelera até {tesla.velocidade}\")"
      ],
      "execution_count": 16,
      "outputs": [
        {
          "output_type": "stream",
          "text": [
            "Nosso veículo possui 4 rodas, tanque com capacidade de até 200 litros, 5 assentos e acelera até 250 km/h\n"
          ],
          "name": "stdout"
        }
      ]
    },
    {
      "cell_type": "code",
      "metadata": {
        "id": "dIqFvarTe_uP",
        "colab_type": "code",
        "colab": {
          "base_uri": "https://localhost:8080/",
          "height": 34
        },
        "outputId": "935ee386-934c-4036-d2b1-d7f7c538d292"
      },
      "source": [
        "tesla.rodas = 2\n",
        "print(tesla.rodas)"
      ],
      "execution_count": 17,
      "outputs": [
        {
          "output_type": "stream",
          "text": [
            "2\n"
          ],
          "name": "stdout"
        }
      ]
    },
    {
      "cell_type": "markdown",
      "metadata": {
        "id": "dPGdUQ16fLgW",
        "colab_type": "text"
      },
      "source": [
        "Métodos"
      ]
    },
    {
      "cell_type": "code",
      "metadata": {
        "id": "_YX8H1LXfMiM",
        "colab_type": "code",
        "colab": {}
      },
      "source": [
        "# Métodos com valor default\n",
        "class Turista():\n",
        "  def __init__(self,nome,nacionalidade = \"brasileira\"):\n",
        "    self.nome = nome\n",
        "    self.nacionalidade = nacionalidade"
      ],
      "execution_count": 0,
      "outputs": []
    },
    {
      "cell_type": "code",
      "metadata": {
        "id": "2VxHQ9PofguZ",
        "colab_type": "code",
        "colab": {}
      },
      "source": [
        "# Criando diversos métodos para a mesma classe\n",
        "class Turista():\n",
        "    def __init__(self,nome,nacionalidade = \"brasileira\"):\n",
        "      self.nome = nome\n",
        "      self.nacionalidade = nacionalidade\n",
        "    def ConfiguraNacionalidade(self, nova_nacionalidade):\n",
        "      self.nacionalidade = nova_nacionalidade\n",
        "    def ConfiguraNome(self, novo_nome):\n",
        "      self.nome = novo_nome"
      ],
      "execution_count": 0,
      "outputs": []
    },
    {
      "cell_type": "code",
      "metadata": {
        "id": "znjB_8pdgMDJ",
        "colab_type": "code",
        "colab": {
          "base_uri": "https://localhost:8080/",
          "height": 34
        },
        "outputId": "2ce6d4bf-7767-4e0a-e3bc-61faaba567eb"
      },
      "source": [
        "t1 = Turista(\"Marcondes\")\n",
        "print(t1.nome, t1.nacionalidade)"
      ],
      "execution_count": 20,
      "outputs": [
        {
          "output_type": "stream",
          "text": [
            "Marcondes brasileira\n"
          ],
          "name": "stdout"
        }
      ]
    },
    {
      "cell_type": "code",
      "metadata": {
        "id": "_LMMwh2YgVqc",
        "colab_type": "code",
        "colab": {
          "base_uri": "https://localhost:8080/",
          "height": 34
        },
        "outputId": "a45a8b11-7f15-4a1a-d951-c7ddad9268eb"
      },
      "source": [
        "t1.ConfiguraNacionalidade(\"Espanhola\")\n",
        "print(t1.nome, t1.nacionalidade)"
      ],
      "execution_count": 21,
      "outputs": [
        {
          "output_type": "stream",
          "text": [
            "Marcondes Espanhola\n"
          ],
          "name": "stdout"
        }
      ]
    },
    {
      "cell_type": "markdown",
      "metadata": {
        "id": "0nITSbACghYb",
        "colab_type": "text"
      },
      "source": [
        "Herança"
      ]
    },
    {
      "cell_type": "markdown",
      "metadata": {
        "id": "LgmpqVNDguPy",
        "colab_type": "text"
      },
      "source": [
        ""
      ]
    },
    {
      "cell_type": "code",
      "metadata": {
        "id": "h8_BZwG3gjN4",
        "colab_type": "code",
        "colab": {
          "base_uri": "https://localhost:8080/",
          "height": 34
        },
        "outputId": "b79a4faf-f100-4293-e209-d6f91b1c3c77"
      },
      "source": [
        "class Carro():\n",
        "  def __init__(self, rodas, tanque, bancos,velocidade):\n",
        "    self.rodas = rodas\n",
        "    self.tanque = tanque\n",
        "    self.bancos = bancos\n",
        "    self.velocidade = velocidade\n",
        "\n",
        "# Classe carro elétrico\n",
        "class CarroEletrico:\n",
        "  def __init__(self,rodas,tanque,bancos,velocidade):\n",
        "    Carro.__init__(self,rodas,tanque,bancos,velocidade)\n",
        "\n",
        "carrinho = CarroEletrico(4,\"100 litros\",5,\"100 km/h\")\n",
        "print(carrinho.rodas)"
      ],
      "execution_count": 23,
      "outputs": [
        {
          "output_type": "stream",
          "text": [
            "4\n"
          ],
          "name": "stdout"
        }
      ]
    },
    {
      "cell_type": "markdown",
      "metadata": {
        "id": "XBftQSrAhiGc",
        "colab_type": "text"
      },
      "source": [
        "# >>> Diferença entre Métodos e Funções\n",
        "* Função: bloco para realizar tarefa específica, podendo retornar, ou não, valore.\n",
        "* Método. Tem de estar sempre associado a objetos/classes."
      ]
    },
    {
      "cell_type": "code",
      "metadata": {
        "id": "Y2YpbdTeiP-X",
        "colab_type": "code",
        "colab": {
          "base_uri": "https://localhost:8080/",
          "height": 34
        },
        "outputId": "3655ead0-180e-478c-8ef6-f41b77e63ea6"
      },
      "source": [
        "# Função\n",
        "def soma(n1, n2):\n",
        "  return(n1+n2)\n",
        "print(soma(1,3))"
      ],
      "execution_count": 24,
      "outputs": [
        {
          "output_type": "stream",
          "text": [
            "4\n"
          ],
          "name": "stdout"
        }
      ]
    },
    {
      "cell_type": "code",
      "metadata": {
        "id": "R9zKDryMiZac",
        "colab_type": "code",
        "colab": {
          "base_uri": "https://localhost:8080/",
          "height": 34
        },
        "outputId": "4806b7a3-c892-4c63-be6b-9b67f3e74e1c"
      },
      "source": [
        "# Método\n",
        "class Metodo(object):\n",
        "  def metodo(self):\n",
        "    print(\"Eu sou um método\")\n",
        "\n",
        "m1 = Metodo()\n",
        "m1.metodo()"
      ],
      "execution_count": 25,
      "outputs": [
        {
          "output_type": "stream",
          "text": [
            "Eu sou um método\n"
          ],
          "name": "stdout"
        }
      ]
    }
  ]
}