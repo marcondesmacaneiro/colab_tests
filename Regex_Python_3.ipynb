{
  "nbformat": 4,
  "nbformat_minor": 0,
  "metadata": {
    "colab": {
      "name": "Regex Python 3.ipynb",
      "provenance": [],
      "include_colab_link": true
    },
    "kernelspec": {
      "name": "python3",
      "display_name": "Python 3"
    },
    "accelerator": "GPU"
  },
  "cells": [
    {
      "cell_type": "markdown",
      "metadata": {
        "id": "view-in-github",
        "colab_type": "text"
      },
      "source": [
        "<a href=\"https://colab.research.google.com/github/marcondesmacaneiro/colab_tests/blob/master/Regex_Python_3.ipynb\" target=\"_parent\"><img src=\"https://colab.research.google.com/assets/colab-badge.svg\" alt=\"Open In Colab\"/></a>"
      ]
    },
    {
      "cell_type": "markdown",
      "metadata": {
        "id": "q5m33rEg6tgi",
        "colab_type": "text"
      },
      "source": [
        "# **>>> Regex(expressões regulares)**\n",
        "\n",
        "---\n",
        "Expressões regulares provêm uma forma concisa e flexível de identificar cadeias de caracteres de interesse, como caracteres particulares, palavras ou padrões de caracteres. Documentação em https://docs.python.org/3/library/re.html"
      ]
    },
    {
      "cell_type": "code",
      "metadata": {
        "id": "Os-LxkP-6JU5",
        "colab_type": "code",
        "colab": {}
      },
      "source": [
        "import re"
      ],
      "execution_count": 0,
      "outputs": []
    },
    {
      "cell_type": "markdown",
      "metadata": {
        "id": "cFygcwSYT1p-",
        "colab_type": "text"
      },
      "source": [
        "# **>>> Caracteres Especiais/MetaCaracteres**\n",
        "---\n",
        ">Caracter | Descrição\n",
        ">--- | ---\n",
        "> [ ]| Um conjunto de caracteres\n",
        "> \\ | Sinaliza uma sequência especial (também pode ser usada para escapar de caracteres especiais)\n",
        "> . | Qualquer caractere (exceto o caractere de nova linha)\n",
        "> ^| Começa com\n",
        "> $ | Termina com\n",
        "> * | Zero ou mais ocorrências\n",
        "> + | Uma ou mais ocorrências\n",
        "> + | Exatamente o número especificado de ocorrências\n",
        "\n",
        "\n",
        "Obs.: \" | \"  significa OU"
      ]
    },
    {
      "cell_type": "markdown",
      "metadata": {
        "id": "86eLX4IigiH0",
        "colab_type": "text"
      },
      "source": [
        "# **>>> Sequências Especiais**\n",
        "\n",
        "---\n",
        "\n",
        ">Sequência | Descrição\n",
        ">--- | ---\n",
        "> \\A | Retorna uma correspondência se os caracteres especificados estiverem no início da string\n",
        ">\\b | Retorna uma correspondência em que os caracteres especificados estão no início ou no final de uma palavra\n",
        ">\\B | Retorna uma correspondência onde os caracteres especificados estão presentes, mas NÃO no início (ou no final) de uma palavra\n",
        ">\\d | Retorna uma correspondência em que a string contém dígitos (números de 0 a 9)\n",
        ">\\D | Retorna uma correspondência em que a string NÃO contém dígitos\n",
        ">\\s | Retorna uma correspondência em que a string contém um caractere de espaço em branco\n",
        ">\\S | Retorna uma correspondência em que a string NÃO contém um caractere de espaço em branco\n",
        ">\\w | Retorna uma correspondência em que a string contém qualquer caractere de palavra (caracteres de a a Z, dígitos de 0 a 9 e caractere de sublinhado _)\n",
        ">\\W | Retorna uma correspondência em que a string NÃO contém caracteres da palavra\n",
        ">\\Z | Retorna uma correspondência se os caracteres especificados estiverem no final da string"
      ]
    },
    {
      "cell_type": "code",
      "metadata": {
        "id": "IxnUKkBA_Cyd",
        "colab_type": "code",
        "colab": {}
      },
      "source": [
        "help(re)"
      ],
      "execution_count": 0,
      "outputs": []
    },
    {
      "cell_type": "code",
      "metadata": {
        "id": "tMS3f0Xf7Dkn",
        "colab_type": "code",
        "colab": {}
      },
      "source": [
        "dir(re)"
      ],
      "execution_count": 0,
      "outputs": []
    },
    {
      "cell_type": "code",
      "metadata": {
        "id": "GEu4vmdp8YIf",
        "colab_type": "code",
        "colab": {}
      },
      "source": [
        "frase = \"Aprenda a Desenvolver Chatbots para Whatsapp com o que há de mais moderno em Inteligência Artificial, utilizando Python, NodeJS e frameworks auxiliares.\""
      ],
      "execution_count": 0,
      "outputs": []
    },
    {
      "cell_type": "markdown",
      "metadata": {
        "id": "YL3yn70We3DS",
        "colab_type": "text"
      },
      "source": [
        "# **>>> Funções Principais REGEX**\n",
        "\n",
        "---\n",
        "\n"
      ]
    },
    {
      "cell_type": "markdown",
      "metadata": {
        "id": "-WMHlSL7e7Fl",
        "colab_type": "text"
      },
      "source": [
        "## .search\n",
        "\n",
        "---\n",
        "\n",
        "Retorna um objeto Match se houver uma correspondência em qualquer lugar da string;"
      ]
    },
    {
      "cell_type": "code",
      "metadata": {
        "id": "Ta0LhWgh8o1v",
        "colab_type": "code",
        "colab": {}
      },
      "source": [
        "# Buscando na frase ou texto\n",
        "buscar = ['Chatbots', 'Python', 'Java']\n",
        "for palavra in buscar:\n",
        "    print (f'Busca por \"{palavra}\":')\n",
        "    \n",
        "    # Verificando se o termo de pesquisa existe no texto\n",
        "    if re.search(palavra,  frase):\n",
        "        print ('>>> Encontrei! \\n')\n",
        "    else:\n",
        "        print ('>>> Não encontrei! \\n')"
      ],
      "execution_count": 0,
      "outputs": []
    },
    {
      "cell_type": "markdown",
      "metadata": {
        "id": "gzspF3W4e_48",
        "colab_type": "text"
      },
      "source": [
        "## .findall\n",
        "\n",
        "---\n",
        "\n",
        "A função findall() retorna uma lista contendo todas as correspondências."
      ]
    },
    {
      "cell_type": "code",
      "metadata": {
        "id": "nJmpVNu3dKqd",
        "colab_type": "code",
        "colab": {}
      },
      "source": [
        "x = re.findall(\"a\", frase)\n",
        "print(x)"
      ],
      "execution_count": 0,
      "outputs": []
    },
    {
      "cell_type": "markdown",
      "metadata": {
        "id": "FqIHWwudfeHc",
        "colab_type": "text"
      },
      "source": [
        "# .split\n",
        "\n",
        "---\n",
        "\n",
        "A função split() retorna uma lista onde a string foi dividida em cada partida:"
      ]
    },
    {
      "cell_type": "code",
      "metadata": {
        "id": "q2bfQn93dK2-",
        "colab_type": "code",
        "colab": {}
      },
      "source": [
        "x = re.split(\"\\s\", frase)\n",
        "print(x)"
      ],
      "execution_count": 0,
      "outputs": []
    },
    {
      "cell_type": "code",
      "metadata": {
        "id": "tDqAXE6Cf4pc",
        "colab_type": "code",
        "colab": {}
      },
      "source": [
        "# Ao inserir o parâmetro maxsplit você controla o número de ocorrências\n",
        "x = re.split(\"\\s\", frase, 1)\n",
        "print(x)"
      ],
      "execution_count": 0,
      "outputs": []
    },
    {
      "cell_type": "markdown",
      "metadata": {
        "id": "6gO-lLgTfxi8",
        "colab_type": "text"
      },
      "source": [
        "# .sub\n",
        "\n",
        "---\n",
        "\n",
        "A função sub() substitui as correspondências com o texto de sua escolha:"
      ]
    },
    {
      "cell_type": "code",
      "metadata": {
        "id": "v2dWpYq6gKKM",
        "colab_type": "code",
        "colab": {}
      },
      "source": [
        "x = re.sub(\"\\s\", \"XXX\", frase)\n",
        "print(x)"
      ],
      "execution_count": 0,
      "outputs": []
    },
    {
      "cell_type": "code",
      "metadata": {
        "id": "1T5m7pt4gWFM",
        "colab_type": "code",
        "colab": {}
      },
      "source": [
        "# Ao incluir o parâmetro count especificamos o número de ocorrências\n",
        "x = re.sub(\"\\s\", \"XXX\", frase, 2)\n",
        "print(x)"
      ],
      "execution_count": 0,
      "outputs": []
    }
  ]
}